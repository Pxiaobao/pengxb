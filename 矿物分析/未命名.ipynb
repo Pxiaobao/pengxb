{
 "cells": [
  {
   "cell_type": "code",
   "execution_count": 4,
   "id": "d7df68f1",
   "metadata": {},
   "outputs": [],
   "source": [
    "import pandas as pd\n",
    "\n",
    "# 文件路径\n",
    "file_path = './data/8113502025_2023-11-08.parquet'\n",
    "\n",
    "# 直接读取Parquet文件到DataFrame\n",
    "df = pd.read_parquet(file_path)\n",
    "\n",
    "df.to_csv('./data/origindata.csv',encoding='utf-8-sig',index=False)"
   ]
  },
  {
   "cell_type": "code",
   "execution_count": 10,
   "id": "47cd9ec2",
   "metadata": {},
   "outputs": [],
   "source": [
    "dff = df[(df['name']=='motor_speed') | (df['name']=='motor_torque')]"
   ]
  },
  {
   "cell_type": "code",
   "execution_count": 6,
   "id": "1ee2486b",
   "metadata": {},
   "outputs": [
    {
     "data": {
      "text/plain": [
       "array(['motor_speed', 'motor_torque', 'main_ctrl_word',\n",
       "       'main_status_word', 'igbt_case_temp', 'igbt_junction_temp',\n",
       "       'frequency_hz', 'motor_current', 'motor_power', 'charging_counter',\n",
       "       'acs800_temp_%', 'pp_1_temp_c', 'pp_2_temp_c', 'pp_3_temp_c',\n",
       "       'pp_4_temp_c', 'ctrl_board_temp', 'drive_at_any_limit',\n",
       "       'limit_word_inv', 'motor_nominal_torque', 'min_speed_limit_mode',\n",
       "       'max_speed_limit_mode', 'energy_consumption', 'time_of_usage',\n",
       "       'motor_runtime', 'saved_kwh_kwh', 'saved_gwh_gwh',\n",
       "       'maximum_current_a_a'], dtype=object)"
      ]
     },
     "execution_count": 6,
     "metadata": {},
     "output_type": "execute_result"
    }
   ],
   "source": [
    "df['name'].unique()"
   ]
  },
  {
   "cell_type": "code",
   "execution_count": 11,
   "id": "b3d98173",
   "metadata": {},
   "outputs": [],
   "source": [
    "dff.to_csv('./data/origindata_o.csv',encoding='utf-8-sig',index=False)"
   ]
  },
  {
   "cell_type": "code",
   "execution_count": 12,
   "id": "ed8c18f5",
   "metadata": {},
   "outputs": [
    {
     "data": {
      "text/html": [
       "<div>\n",
       "<style scoped>\n",
       "    .dataframe tbody tr th:only-of-type {\n",
       "        vertical-align: middle;\n",
       "    }\n",
       "\n",
       "    .dataframe tbody tr th {\n",
       "        vertical-align: top;\n",
       "    }\n",
       "\n",
       "    .dataframe thead th {\n",
       "        text-align: right;\n",
       "    }\n",
       "</style>\n",
       "<table border=\"1\" class=\"dataframe\">\n",
       "  <thead>\n",
       "    <tr style=\"text-align: right;\">\n",
       "      <th></th>\n",
       "      <th>parameter</th>\n",
       "      <th>name</th>\n",
       "      <th>value</th>\n",
       "      <th>timestamp</th>\n",
       "      <th>serialNumber</th>\n",
       "    </tr>\n",
       "  </thead>\n",
       "  <tbody>\n",
       "    <tr>\n",
       "      <th>0</th>\n",
       "      <td>01.02</td>\n",
       "      <td>motor_speed</td>\n",
       "      <td>0.0</td>\n",
       "      <td>2023-11-08 00:59:01.610</td>\n",
       "      <td>8113502025</td>\n",
       "    </tr>\n",
       "    <tr>\n",
       "      <th>1</th>\n",
       "      <td>01.02</td>\n",
       "      <td>motor_speed</td>\n",
       "      <td>0.0</td>\n",
       "      <td>2023-11-08 00:59:03.230</td>\n",
       "      <td>8113502025</td>\n",
       "    </tr>\n",
       "    <tr>\n",
       "      <th>2</th>\n",
       "      <td>01.02</td>\n",
       "      <td>motor_speed</td>\n",
       "      <td>0.0</td>\n",
       "      <td>2023-11-08 00:59:03.580</td>\n",
       "      <td>8113502025</td>\n",
       "    </tr>\n",
       "    <tr>\n",
       "      <th>3</th>\n",
       "      <td>01.02</td>\n",
       "      <td>motor_speed</td>\n",
       "      <td>0.0</td>\n",
       "      <td>2023-11-08 00:59:04.430</td>\n",
       "      <td>8113502025</td>\n",
       "    </tr>\n",
       "    <tr>\n",
       "      <th>4</th>\n",
       "      <td>01.02</td>\n",
       "      <td>motor_speed</td>\n",
       "      <td>0.0</td>\n",
       "      <td>2023-11-08 00:59:05.420</td>\n",
       "      <td>8113502025</td>\n",
       "    </tr>\n",
       "    <tr>\n",
       "      <th>...</th>\n",
       "      <td>...</td>\n",
       "      <td>...</td>\n",
       "      <td>...</td>\n",
       "      <td>...</td>\n",
       "      <td>...</td>\n",
       "    </tr>\n",
       "    <tr>\n",
       "      <th>374612</th>\n",
       "      <td>01.05</td>\n",
       "      <td>motor_torque</td>\n",
       "      <td>0.0</td>\n",
       "      <td>2023-11-08 20:49:11.250</td>\n",
       "      <td>8113502025</td>\n",
       "    </tr>\n",
       "    <tr>\n",
       "      <th>374613</th>\n",
       "      <td>01.05</td>\n",
       "      <td>motor_torque</td>\n",
       "      <td>0.0</td>\n",
       "      <td>2023-11-08 20:49:12.260</td>\n",
       "      <td>8113502025</td>\n",
       "    </tr>\n",
       "    <tr>\n",
       "      <th>374614</th>\n",
       "      <td>01.05</td>\n",
       "      <td>motor_torque</td>\n",
       "      <td>0.0</td>\n",
       "      <td>2023-11-08 20:49:13.270</td>\n",
       "      <td>8113502025</td>\n",
       "    </tr>\n",
       "    <tr>\n",
       "      <th>374615</th>\n",
       "      <td>01.05</td>\n",
       "      <td>motor_torque</td>\n",
       "      <td>0.0</td>\n",
       "      <td>2023-11-08 20:49:14.270</td>\n",
       "      <td>8113502025</td>\n",
       "    </tr>\n",
       "    <tr>\n",
       "      <th>374616</th>\n",
       "      <td>01.05</td>\n",
       "      <td>motor_torque</td>\n",
       "      <td>0.0</td>\n",
       "      <td>2023-11-08 20:49:15.290</td>\n",
       "      <td>8113502025</td>\n",
       "    </tr>\n",
       "  </tbody>\n",
       "</table>\n",
       "<p>124396 rows × 5 columns</p>\n",
       "</div>"
      ],
      "text/plain": [
       "       parameter          name value               timestamp serialNumber\n",
       "0          01.02   motor_speed   0.0 2023-11-08 00:59:01.610   8113502025\n",
       "1          01.02   motor_speed   0.0 2023-11-08 00:59:03.230   8113502025\n",
       "2          01.02   motor_speed   0.0 2023-11-08 00:59:03.580   8113502025\n",
       "3          01.02   motor_speed   0.0 2023-11-08 00:59:04.430   8113502025\n",
       "4          01.02   motor_speed   0.0 2023-11-08 00:59:05.420   8113502025\n",
       "...          ...           ...   ...                     ...          ...\n",
       "374612     01.05  motor_torque   0.0 2023-11-08 20:49:11.250   8113502025\n",
       "374613     01.05  motor_torque   0.0 2023-11-08 20:49:12.260   8113502025\n",
       "374614     01.05  motor_torque   0.0 2023-11-08 20:49:13.270   8113502025\n",
       "374615     01.05  motor_torque   0.0 2023-11-08 20:49:14.270   8113502025\n",
       "374616     01.05  motor_torque   0.0 2023-11-08 20:49:15.290   8113502025\n",
       "\n",
       "[124396 rows x 5 columns]"
      ]
     },
     "execution_count": 12,
     "metadata": {},
     "output_type": "execute_result"
    }
   ],
   "source": [
    "dff"
   ]
  },
  {
   "cell_type": "code",
   "execution_count": null,
   "id": "f40eab91",
   "metadata": {},
   "outputs": [],
   "source": []
  }
 ],
 "metadata": {
  "kernelspec": {
   "display_name": "Python 3 (ipykernel)",
   "language": "python",
   "name": "python3"
  },
  "language_info": {
   "codemirror_mode": {
    "name": "ipython",
    "version": 3
   },
   "file_extension": ".py",
   "mimetype": "text/x-python",
   "name": "python",
   "nbconvert_exporter": "python",
   "pygments_lexer": "ipython3",
   "version": "3.8.13"
  }
 },
 "nbformat": 4,
 "nbformat_minor": 5
}
