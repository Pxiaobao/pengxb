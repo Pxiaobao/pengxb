{
 "cells": [
  {
   "cell_type": "markdown",
   "id": "957ae3d8",
   "metadata": {},
   "source": [
    "### 提供精确的属性预估值"
   ]
  },
  {
   "cell_type": "code",
   "execution_count": 10,
   "id": "016bf7e9",
   "metadata": {},
   "outputs": [
    {
     "name": "stdout",
     "output_type": "stream",
     "text": [
      "静态抗压强度: [111.04034]\n",
      "弹性模量: [53.288494]\n",
      "泊松比: [0.25958583]\n",
      "抗拉强度: [6.71879]\n",
      "黏聚力: [12.006973]\n"
     ]
    },
    {
     "data": {
      "text/plain": [
       "{'静态抗压强度': array([111.04034], dtype=float32),\n",
       " '弹性模量': array([53.288494], dtype=float32),\n",
       " '泊松比': array([0.25958583], dtype=float32),\n",
       " '抗拉强度': array([6.71879], dtype=float32),\n",
       " '黏聚力': array([12.006973], dtype=float32)}"
      ]
     },
     "execution_count": 10,
     "metadata": {},
     "output_type": "execute_result"
    }
   ],
   "source": [
    "import pandas as pd\n",
    "import xgboost as xgb\n",
    "import numpy as np\n",
    "def predict(wob,T,pred_y):\n",
    "    #数据预处理\n",
    "    df = pd.DataFrame(columns=['wob_min','wob_max','wob_mean','wob_std','wob_skew','wob_kurt','T_min','T_max','T_mean','T_std','T_skew','T_kurt'])\n",
    "\n",
    "    wob_min = np.min(wob)\n",
    "    wob_max = np.max(wob)\n",
    "    wob_mean = np.mean(wob)\n",
    "    wob_std = np.std(wob, ddof=1)  # ddof=0 对于样本标准差，ddof=1 对于总体标准差\n",
    "    wob_skew = pd.Series(wob).skew()\n",
    "    wob_kurt = pd.Series(wob).kurt()\n",
    "\n",
    "    T_min = np.min(T)\n",
    "    T_max = np.max(T)\n",
    "    T_mean = np.mean(T)\n",
    "    T_std = np.std(T, ddof=1)  # ddof=0 对于样本标准差，ddof=1 对于总体标准差\n",
    "    T_skew = pd.Series(T).skew()\n",
    "    T_kurt = pd.Series(T).skew()\n",
    "\n",
    "    row = {'wob_min':wob_min,'wob_max':wob_max,'wob_mean':wob_mean,'wob_std':wob_std,'wob_skew':wob_skew,'wob_kurt':wob_kurt,'T_min':T_min,'T_max':T_max,'T_mean':T_mean,'T_std':T_std,'T_skew':T_skew,'T_kurt':T_kurt}\n",
    "    df.loc[len(df)] = row\n",
    "    res = {}\n",
    "    for pred in pred_y:\n",
    "        # 加载已保存的模型\n",
    "        loaded_bst = xgb.Booster()\n",
    "        loaded_bst.load_model(\"./模型/model_\"+pred+\".xgb\")  # 从model.xgb文件加载模型\n",
    "        # 使用加载后的模型进行预测\n",
    "        feature_name =df.columns\n",
    "        dtest = xgb.DMatrix(df,feature_names=feature_name)\n",
    "        bst_ypred = loaded_bst.predict(dtest)\n",
    "        print(pred+':',bst_ypred)\n",
    "        res[pred] = bst_ypred\n",
    "    return res\n",
    "\n",
    "\n",
    "\n",
    "\n",
    "\n",
    "#模型输入数据，3秒的wob和T数据 以及要预测的属性名称\n",
    "#['设备S','设备Z','静态抗压强度', '弹性模量', '泊松比', '抗拉强度', '黏聚力', '内摩擦角', '回弹均值', '动态强度', '滑动摩擦系数', '声级', '波速', '密度均值', '渗透率', '孔隙度', '标定温度']\n",
    "\n",
    "wob = [3.52979,3.5755,3.02758,3.65089,3.30212,3.63342,3.38165,3.46744,3.56689,3.00286]\n",
    "T = [11.48,9.597,10.277,11.4,7.998,9.718,10.092,11.97,9.343,9.56]\n",
    "pred_y = ['静态抗压强度', '弹性模量', '泊松比','抗拉强度', '黏聚力']\n",
    "\n",
    "\n",
    "#调用模型\n",
    "predict(wob,T,pred_y)"
   ]
  },
  {
   "cell_type": "markdown",
   "id": "4663e381",
   "metadata": {},
   "source": [
    "### 提供精确的材料类型"
   ]
  },
  {
   "cell_type": "code",
   "execution_count": 8,
   "id": "fc77d7b3",
   "metadata": {},
   "outputs": [
    {
     "data": {
      "text/plain": [
       "'DTj'"
      ]
     },
     "execution_count": 8,
     "metadata": {},
     "output_type": "execute_result"
    }
   ],
   "source": [
    "import pandas as pd\n",
    "import xgboost as xgb\n",
    "import numpy as np\n",
    "def predict_kind(wob,T):\n",
    "    #数据预处理\n",
    "    df = pd.DataFrame(columns=['wob_min','wob_max','wob_mean','wob_std','wob_skew','wob_kurt','T_min','T_max','T_mean','T_std','T_skew','T_kurt'])\n",
    "\n",
    "    wob_min = np.min(wob)\n",
    "    wob_max = np.max(wob)\n",
    "    wob_mean = np.mean(wob)\n",
    "    wob_std = np.std(wob, ddof=1)  # ddof=0 对于样本标准差，ddof=1 对于总体标准差\n",
    "    wob_skew = pd.Series(wob).skew()\n",
    "    wob_kurt = pd.Series(wob).kurt()\n",
    "    T_min = np.min(T)\n",
    "    T_max = np.max(T)\n",
    "    T_mean = np.mean(T)\n",
    "    T_std = np.std(T, ddof=1)  # ddof=0 对于样本标准差，ddof=1 对于总体标准差\n",
    "    T_skew = pd.Series(T).skew()\n",
    "    T_kurt = pd.Series(T).skew()\n",
    "    row = {'wob_min':wob_min,'wob_max':wob_max,'wob_mean':wob_mean,'wob_std':wob_std,'wob_skew':wob_skew,'wob_kurt':wob_kurt,'T_min':T_min,'T_max':T_max,'T_mean':T_mean,'T_std':T_std,'T_skew':T_skew,'T_kurt':T_kurt}\n",
    "    df.loc[len(df)] = row\n",
    "\n",
    "\n",
    "    #计算各种属性，计算其与标注属性之间的距离\n",
    "    cols = ['设备S', '静态抗压强度', '弹性模量', '泊松比', '抗拉强度', '黏聚力', '内摩擦角', '波速', '密度均值', '孔隙度', '标定温度']\n",
    "    res_list = []\n",
    "    for pred in cols:\n",
    "        # 加载已保存的模型\n",
    "        loaded_bst = xgb.Booster()\n",
    "        loaded_bst.load_model(\"./模型/model_\"+pred+\".xgb\")  # 从model.xgb文件加载模型\n",
    "        # 使用加载后的模型进行预测\n",
    "        feature_name =df.columns\n",
    "        dtest = xgb.DMatrix(df,feature_names=feature_name)\n",
    "        bst_ypred = loaded_bst.predict(dtest)\n",
    "        res_list.append(bst_ypred[0])\n",
    "\n",
    "    cl2 = [101.4,110.95,53.58,0.26,6.65,11.85,38.44,5.49,2.86,2.08,60.21]\n",
    "    cl4 = [71.5,117.49,58.62,0.33,10.68,13.53,46.34,5.24,3.28,2.09,57.99]\n",
    "    cl5 = [67.9,126.65,72.11,0.27,12.67,21.09,44.90,6.76,3.45,2.06,63.23]\n",
    "    cl7 = [65.7,53.53,31.54,0.28,4.56,8.02,45.61,5.95,3.67,14.49,57.11]\n",
    "    cl8 = [72.9,164.87,53.87,0.23,5.76,12.01,44.17,4.72,4.32,1.87,63.54]\n",
    "    cl10 = [69.3,48.66,47.03,0.24,4.96,18.04,44.86,5.31,3.87,2.97,57.14]\n",
    "    cl11 = [75.2,192.15,77.85,0.21,7.74,17.81,45.53,6.58,3.06,1.14,65.07]\n",
    "    cl13 = [70.8,129.06,85.21,0.26,6.84,21.22,38.96,6.41,3.81,1.25,56.53]\n",
    "    cl55 = [68.7,39.96,29.81,0.24,3.11,16.99,31.80,2.97,2.74,18.47,53.31]\n",
    "    cl21 = [64.5,61.84,32.55,0.27,4.72,13.75,41.61,3.43,2.64,11.68,55.67]\n",
    "    cl22 = [78.1,131.05,55.01,0.19,7.45,20.80,46.75,5.10,2.53,1.16,66.72]\n",
    "\n",
    "    resss = {'DTj':cl2,'Fec-BR':cl4,'DT':cl5,'Py':cl7,'Feb-BR':cl8,'BR':cl10,'CF':cl11,'Fed-DT':cl13,'ST':cl55,'GS':cl21,'GG':cl22}\n",
    "    min_dis = float('inf')\n",
    "    cl = ''\n",
    "    for key,temp in resss.items():\n",
    "\n",
    "        dis = np.linalg.norm(np.array(res_list) - np.array(temp))\n",
    "\n",
    "        if dis < min_dis:\n",
    "            min_dis = dis\n",
    "            cl = key\n",
    "    return cl\n",
    "\n",
    "\n",
    "#模型输入数据  3秒的wob和T数据\n",
    "wob = [3.52979,3.5755,3.02758,3.65089,3.30212,3.63342,3.38165,3.46744,3.56689,3.00286]\n",
    "T = [11.48,9.597,10.277,11.4,7.998,9.718,10.092,11.97,9.343,9.56]\n",
    "predict_kind(wob,T)"
   ]
  },
  {
   "cell_type": "code",
   "execution_count": null,
   "id": "33201def",
   "metadata": {},
   "outputs": [],
   "source": []
  }
 ],
 "metadata": {
  "kernelspec": {
   "display_name": "Python 3 (ipykernel)",
   "language": "python",
   "name": "python3"
  },
  "language_info": {
   "codemirror_mode": {
    "name": "ipython",
    "version": 3
   },
   "file_extension": ".py",
   "mimetype": "text/x-python",
   "name": "python",
   "nbconvert_exporter": "python",
   "pygments_lexer": "ipython3",
   "version": "3.8.13"
  }
 },
 "nbformat": 4,
 "nbformat_minor": 5
}
