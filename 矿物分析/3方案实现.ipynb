{
 "cells": [
  {
   "cell_type": "markdown",
   "id": "67c7684f",
   "metadata": {},
   "source": [
    "方案一：\n",
    "直接根据整体的时序数据提取特征，做分类预测，根据特征将数据分为哪一类"
   ]
  },
  {
   "cell_type": "markdown",
   "id": "abb4f72f",
   "metadata": {},
   "source": [
    "方案二：做回归预测，根据数据特征拟合材料的几个关键属性值；然后再和标准值对比，根据总体的差异判断属于哪一类"
   ]
  },
  {
   "cell_type": "code",
   "execution_count": null,
   "id": "35384dc9",
   "metadata": {},
   "outputs": [],
   "source": []
  }
 ],
 "metadata": {
  "kernelspec": {
   "display_name": "Python 3 (ipykernel)",
   "language": "python",
   "name": "python3"
  },
  "language_info": {
   "codemirror_mode": {
    "name": "ipython",
    "version": 3
   },
   "file_extension": ".py",
   "mimetype": "text/x-python",
   "name": "python",
   "nbconvert_exporter": "python",
   "pygments_lexer": "ipython3",
   "version": "3.8.13"
  }
 },
 "nbformat": 4,
 "nbformat_minor": 5
}
